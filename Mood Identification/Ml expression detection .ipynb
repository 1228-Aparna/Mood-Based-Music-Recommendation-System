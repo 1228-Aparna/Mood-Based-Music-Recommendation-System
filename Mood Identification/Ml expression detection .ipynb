{
 "cells": [
  {
   "cell_type": "markdown",
   "id": "371e5c56",
   "metadata": {},
   "source": []
  },
  {
   "cell_type": "code",
   "execution_count": 5,
   "id": "92f94af6",
   "metadata": {},
   "outputs": [],
   "source": [
    "import tensorflow as tf\n",
    "from tensorflow import keras\n",
    "import numpy as np\n",
    "import cv2\n",
    "\n",
    "\n",
    "emotion =  ['Anger', 'Disgust', 'Fear', 'Happy', 'Sad', 'Surprise', 'Neutral']\n",
    "\n",
    "model = keras.models.load_model(\"C:/Users/admin/Downloads/model.h5\")\n",
    "\n",
    "font = cv2.FONT_HERSHEY_SIMPLEX\n",
    "cam = cv2.VideoCapture(0)\n",
    "face_cas = cv2.CascadeClassifier('C:/Users/admin/Downloads/frontalface.xml')\n",
    "\n",
    "vid = cv2.VideoCapture(0)\n",
    "a = 0\n",
    "\n",
    "while True:\n",
    "    ret, frame = cam.read()  \n",
    "    if ret==True:\n",
    "        gray = cv2.cvtColor(frame, cv2.COLOR_BGR2GRAY)\n",
    "        faces = face_cas.detectMultiScale(gray, 1.3,5)\n",
    "        for (x, y, w, h) in faces:\n",
    "            face_component = gray[y:y+h, x:x+w]\n",
    "            fc = cv2.resize(face_component, (48, 48))\n",
    "            inp = np.reshape(fc,(1,48,48,1)).astype(np.float32)\n",
    "            inp = inp/255.\n",
    "            prediction = model.predict(inp)\n",
    "            em = emotion[np.argmax(prediction)]\n",
    "            score = np.max(prediction)\n",
    "            cv2.putText(frame, em+\"  \"+str(score*100)+'%', (x, y), font, 1, (0, 255, 0), 2)\n",
    "            cv2.rectangle(frame, (x, y), (x+w, y+h), (0, 0, 255), 2)\n",
    "        cv2.imshow(\"image\", frame)\n",
    "        if cv2.waitKey(1) == ord('q'):\n",
    "            break\n",
    "    else:\n",
    "        print ('Error')\n",
    "\n",
    "cam.release()\n",
    "cv2.destroyAllWindows()"
   ]
  }
 ],
 "metadata": {
  "kernelspec": {
   "display_name": "Python 3 (ipykernel)",
   "language": "python",
   "name": "python3"
  },
  "language_info": {
   "codemirror_mode": {
    "name": "ipython",
    "version": 3
   },
   "file_extension": ".py",
   "mimetype": "text/x-python",
   "name": "python",
   "nbconvert_exporter": "python",
   "pygments_lexer": "ipython3",
   "version": "3.9.13"
  }
 },
 "nbformat": 4,
 "nbformat_minor": 5
}
